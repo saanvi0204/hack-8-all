{
 "cells": [
  {
   "cell_type": "markdown",
   "id": "df2aaa95",
   "metadata": {},
   "source": [
    "**Data Preprocessing**"
   ]
  },
  {
   "cell_type": "code",
   "execution_count": 1,
   "id": "d0fc9a8e",
   "metadata": {},
   "outputs": [],
   "source": [
    "#Importing relevant libraries\n",
    "\n",
    "import pandas as pd"
   ]
  },
  {
   "cell_type": "code",
   "execution_count": 2,
   "id": "6ea61e69",
   "metadata": {},
   "outputs": [],
   "source": [
    "df = pd.read_csv('codeforces_data.csv')"
   ]
  },
  {
   "cell_type": "code",
   "execution_count": 4,
   "id": "81d89878",
   "metadata": {},
   "outputs": [],
   "source": [
    "#Dropping rows with null values if any\n",
    "\n",
    "df = df.dropna()"
   ]
  },
  {
   "cell_type": "code",
   "execution_count": 14,
   "id": "69f68954",
   "metadata": {},
   "outputs": [],
   "source": [
    "df['Total problems']=df['Total problems'].str.replace('problems','')\n",
    "df['Problems last month']=df['Problems last month'].str.replace('problems','')\n",
    "df['Rating']=df['Rating'].replace('\\n','')"
   ]
  },
  {
   "cell_type": "code",
   "execution_count": 15,
   "id": "0af708fa",
   "metadata": {},
   "outputs": [
    {
     "data": {
      "text/html": [
       "<div>\n",
       "<style scoped>\n",
       "    .dataframe tbody tr th:only-of-type {\n",
       "        vertical-align: middle;\n",
       "    }\n",
       "\n",
       "    .dataframe tbody tr th {\n",
       "        vertical-align: top;\n",
       "    }\n",
       "\n",
       "    .dataframe thead th {\n",
       "        text-align: right;\n",
       "    }\n",
       "</style>\n",
       "<table border=\"1\" class=\"dataframe\">\n",
       "  <thead>\n",
       "    <tr style=\"text-align: right;\">\n",
       "      <th></th>\n",
       "      <th>CF_Handle</th>\n",
       "      <th>Rating</th>\n",
       "      <th>Total problems</th>\n",
       "      <th>Problems last month</th>\n",
       "      <th>Contest given</th>\n",
       "      <th>First contest date</th>\n",
       "    </tr>\n",
       "  </thead>\n",
       "  <tbody>\n",
       "    <tr>\n",
       "      <th>0</th>\n",
       "      <td>tourist</td>\n",
       "      <td>3947</td>\n",
       "      <td>2599</td>\n",
       "      <td>24</td>\n",
       "      <td>268</td>\n",
       "      <td>\\n\\n                        Feb/25/2010 22:30U...</td>\n",
       "    </tr>\n",
       "    <tr>\n",
       "      <th>1</th>\n",
       "      <td>jiangly</td>\n",
       "      <td>3734</td>\n",
       "      <td>6122</td>\n",
       "      <td>82</td>\n",
       "      <td>162</td>\n",
       "      <td>\\n\\n                        Jan/20/2019 17:35U...</td>\n",
       "    </tr>\n",
       "    <tr>\n",
       "      <th>2</th>\n",
       "      <td>Benq</td>\n",
       "      <td>3620</td>\n",
       "      <td>3740</td>\n",
       "      <td>24</td>\n",
       "      <td>151</td>\n",
       "      <td>\\n\\n                        Jul/14/2015 20:40U...</td>\n",
       "    </tr>\n",
       "    <tr>\n",
       "      <th>3</th>\n",
       "      <td>ksun48</td>\n",
       "      <td>3479</td>\n",
       "      <td>3316</td>\n",
       "      <td>37</td>\n",
       "      <td>276</td>\n",
       "      <td>\\n\\n                        Jan/08/2012 21:30U...</td>\n",
       "    </tr>\n",
       "    <tr>\n",
       "      <th>4</th>\n",
       "      <td>ecnerwala</td>\n",
       "      <td>3581</td>\n",
       "      <td>2989</td>\n",
       "      <td>17</td>\n",
       "      <td>186</td>\n",
       "      <td>\\n\\n                        Jul/11/2012 22:00U...</td>\n",
       "    </tr>\n",
       "    <tr>\n",
       "      <th>...</th>\n",
       "      <td>...</td>\n",
       "      <td>...</td>\n",
       "      <td>...</td>\n",
       "      <td>...</td>\n",
       "      <td>...</td>\n",
       "      <td>...</td>\n",
       "    </tr>\n",
       "    <tr>\n",
       "      <th>468</th>\n",
       "      <td>not_makise</td>\n",
       "      <td>1393</td>\n",
       "      <td>469</td>\n",
       "      <td>36</td>\n",
       "      <td>91</td>\n",
       "      <td>\\n\\n                        Dec/27/2022 20:05U...</td>\n",
       "    </tr>\n",
       "    <tr>\n",
       "      <th>469</th>\n",
       "      <td>nishaddhuri</td>\n",
       "      <td>1272</td>\n",
       "      <td>122</td>\n",
       "      <td>2</td>\n",
       "      <td>46</td>\n",
       "      <td>\\n\\n                        Jan/31/2022 20:05U...</td>\n",
       "    </tr>\n",
       "    <tr>\n",
       "      <th>470</th>\n",
       "      <td>0Arctic0</td>\n",
       "      <td>1331</td>\n",
       "      <td>104</td>\n",
       "      <td>5</td>\n",
       "      <td>12</td>\n",
       "      <td>\\n\\n                        Jul/30/2021 20:05U...</td>\n",
       "    </tr>\n",
       "    <tr>\n",
       "      <th>471</th>\n",
       "      <td>SadSock</td>\n",
       "      <td>1331</td>\n",
       "      <td>12</td>\n",
       "      <td>0</td>\n",
       "      <td>6</td>\n",
       "      <td>\\n\\n                        Dec/27/2022 20:05U...</td>\n",
       "    </tr>\n",
       "    <tr>\n",
       "      <th>472</th>\n",
       "      <td>opos</td>\n",
       "      <td>1331</td>\n",
       "      <td>138</td>\n",
       "      <td>0</td>\n",
       "      <td>12</td>\n",
       "      <td>\\n\\n                        Jan/27/2023 20:05U...</td>\n",
       "    </tr>\n",
       "  </tbody>\n",
       "</table>\n",
       "<p>463 rows × 6 columns</p>\n",
       "</div>"
      ],
      "text/plain": [
       "       CF_Handle  Rating Total problems Problems last month  Contest given  \\\n",
       "0        tourist    3947          2599                  24             268   \n",
       "1        jiangly    3734          6122                  82             162   \n",
       "2           Benq    3620          3740                  24             151   \n",
       "3         ksun48    3479          3316                  37             276   \n",
       "4      ecnerwala    3581          2989                  17             186   \n",
       "..           ...     ...            ...                 ...            ...   \n",
       "468   not_makise    1393           469                  36              91   \n",
       "469  nishaddhuri    1272           122                   2              46   \n",
       "470     0Arctic0    1331           104                   5              12   \n",
       "471      SadSock    1331            12                   0               6   \n",
       "472         opos    1331           138                   0              12   \n",
       "\n",
       "                                    First contest date  \n",
       "0    \\n\\n                        Feb/25/2010 22:30U...  \n",
       "1    \\n\\n                        Jan/20/2019 17:35U...  \n",
       "2    \\n\\n                        Jul/14/2015 20:40U...  \n",
       "3    \\n\\n                        Jan/08/2012 21:30U...  \n",
       "4    \\n\\n                        Jul/11/2012 22:00U...  \n",
       "..                                                 ...  \n",
       "468  \\n\\n                        Dec/27/2022 20:05U...  \n",
       "469  \\n\\n                        Jan/31/2022 20:05U...  \n",
       "470  \\n\\n                        Jul/30/2021 20:05U...  \n",
       "471  \\n\\n                        Dec/27/2022 20:05U...  \n",
       "472  \\n\\n                        Jan/27/2023 20:05U...  \n",
       "\n",
       "[463 rows x 6 columns]"
      ]
     },
     "execution_count": 15,
     "metadata": {},
     "output_type": "execute_result"
    }
   ],
   "source": [
    "df"
   ]
  },
  {
   "cell_type": "code",
   "execution_count": 18,
   "id": "3529b8b1",
   "metadata": {},
   "outputs": [],
   "source": [
    "df['First contest year'] = df['First contest date'].str.extract(r'/(\\d{4})')"
   ]
  },
  {
   "cell_type": "code",
   "execution_count": 27,
   "id": "e05768a5",
   "metadata": {},
   "outputs": [],
   "source": [
    "df.drop(columns = ['First contest date'], inplace=True)"
   ]
  },
  {
   "cell_type": "code",
   "execution_count": 29,
   "id": "68a37e2f",
   "metadata": {},
   "outputs": [],
   "source": [
    "df['Rating'] = df['Rating'].astype(int)\n",
    "df['First contest year'] = df['First contest year'].astype(int)\n",
    "df['Contest given'] = df['Contest given'].astype(int)"
   ]
  },
  {
   "cell_type": "code",
   "execution_count": null,
   "id": "2c40da91",
   "metadata": {},
   "outputs": [],
   "source": [
    "df['Total problems'] = df['Total problems'].str.extract('(\\d+)')\n",
    "df['Total problems'] = df['Total problems'].astype(int)"
   ]
  },
  {
   "cell_type": "code",
   "execution_count": 35,
   "id": "fa85729a",
   "metadata": {},
   "outputs": [],
   "source": [
    "df['Problems last month'] = df['Problems last month'].str.extract('(\\d+)')\n",
    "df['Problems last month'] = df['Problems last month'].astype(int)"
   ]
  },
  {
   "cell_type": "code",
   "execution_count": 37,
   "id": "15ec3007",
   "metadata": {},
   "outputs": [
    {
     "data": {
      "text/plain": [
       "CF_Handle              object\n",
       "Rating                  int32\n",
       "Total problems          int32\n",
       "Problems last month     int32\n",
       "Contest given           int32\n",
       "First contest year      int32\n",
       "dtype: object"
      ]
     },
     "execution_count": 37,
     "metadata": {},
     "output_type": "execute_result"
    }
   ],
   "source": [
    "df.dtypes"
   ]
  },
  {
   "cell_type": "code",
   "execution_count": 38,
   "id": "67ac683f",
   "metadata": {},
   "outputs": [],
   "source": [
    "from sklearn.preprocessing import StandardScaler"
   ]
  },
  {
   "cell_type": "code",
   "execution_count": 40,
   "id": "c17eed15",
   "metadata": {},
   "outputs": [],
   "source": [
    "#Normalising the training features\n",
    "\n",
    "scaler=StandardScaler()"
   ]
  },
  {
   "cell_type": "code",
   "execution_count": 43,
   "id": "c0fe1fa9",
   "metadata": {},
   "outputs": [],
   "source": [
    "numerical_features=['Rating','Total problems','Problems last month', 'Contest given', 'First contest year']\n",
    "df[numerical_features]=scaler.fit_transform(df[numerical_features])"
   ]
  },
  {
   "cell_type": "code",
   "execution_count": 45,
   "id": "4a79363e",
   "metadata": {},
   "outputs": [],
   "source": [
    "X=df[numerical_features]"
   ]
  },
  {
   "cell_type": "markdown",
   "id": "c13c5ae5",
   "metadata": {},
   "source": [
    "**Training the data using K-Means Clustering**"
   ]
  },
  {
   "cell_type": "code",
   "execution_count": 46,
   "id": "fedd1da7",
   "metadata": {},
   "outputs": [],
   "source": [
    "from sklearn.cluster import KMeans\n",
    "import matplotlib.pyplot as plt"
   ]
  },
  {
   "cell_type": "code",
   "execution_count": 51,
   "id": "36d665c9",
   "metadata": {},
   "outputs": [
    {
     "name": "stderr",
     "output_type": "stream",
     "text": [
      "C:\\Users\\hp\\anaconda3\\Lib\\site-packages\\sklearn\\cluster\\_kmeans.py:1436: UserWarning: KMeans is known to have a memory leak on Windows with MKL, when there are less chunks than available threads. You can avoid it by setting the environment variable OMP_NUM_THREADS=2.\n",
      "  warnings.warn(\n",
      "C:\\Users\\hp\\anaconda3\\Lib\\site-packages\\sklearn\\cluster\\_kmeans.py:1436: UserWarning: KMeans is known to have a memory leak on Windows with MKL, when there are less chunks than available threads. You can avoid it by setting the environment variable OMP_NUM_THREADS=2.\n",
      "  warnings.warn(\n",
      "C:\\Users\\hp\\anaconda3\\Lib\\site-packages\\sklearn\\cluster\\_kmeans.py:1436: UserWarning: KMeans is known to have a memory leak on Windows with MKL, when there are less chunks than available threads. You can avoid it by setting the environment variable OMP_NUM_THREADS=2.\n",
      "  warnings.warn(\n",
      "C:\\Users\\hp\\anaconda3\\Lib\\site-packages\\sklearn\\cluster\\_kmeans.py:1436: UserWarning: KMeans is known to have a memory leak on Windows with MKL, when there are less chunks than available threads. You can avoid it by setting the environment variable OMP_NUM_THREADS=2.\n",
      "  warnings.warn(\n",
      "C:\\Users\\hp\\anaconda3\\Lib\\site-packages\\sklearn\\cluster\\_kmeans.py:1436: UserWarning: KMeans is known to have a memory leak on Windows with MKL, when there are less chunks than available threads. You can avoid it by setting the environment variable OMP_NUM_THREADS=2.\n",
      "  warnings.warn(\n",
      "C:\\Users\\hp\\anaconda3\\Lib\\site-packages\\sklearn\\cluster\\_kmeans.py:1436: UserWarning: KMeans is known to have a memory leak on Windows with MKL, when there are less chunks than available threads. You can avoid it by setting the environment variable OMP_NUM_THREADS=2.\n",
      "  warnings.warn(\n",
      "C:\\Users\\hp\\anaconda3\\Lib\\site-packages\\sklearn\\cluster\\_kmeans.py:1436: UserWarning: KMeans is known to have a memory leak on Windows with MKL, when there are less chunks than available threads. You can avoid it by setting the environment variable OMP_NUM_THREADS=2.\n",
      "  warnings.warn(\n",
      "C:\\Users\\hp\\anaconda3\\Lib\\site-packages\\sklearn\\cluster\\_kmeans.py:1436: UserWarning: KMeans is known to have a memory leak on Windows with MKL, when there are less chunks than available threads. You can avoid it by setting the environment variable OMP_NUM_THREADS=2.\n",
      "  warnings.warn(\n",
      "C:\\Users\\hp\\anaconda3\\Lib\\site-packages\\sklearn\\cluster\\_kmeans.py:1436: UserWarning: KMeans is known to have a memory leak on Windows with MKL, when there are less chunks than available threads. You can avoid it by setting the environment variable OMP_NUM_THREADS=2.\n",
      "  warnings.warn(\n",
      "C:\\Users\\hp\\anaconda3\\Lib\\site-packages\\sklearn\\cluster\\_kmeans.py:1436: UserWarning: KMeans is known to have a memory leak on Windows with MKL, when there are less chunks than available threads. You can avoid it by setting the environment variable OMP_NUM_THREADS=2.\n",
      "  warnings.warn(\n",
      "C:\\Users\\hp\\anaconda3\\Lib\\site-packages\\sklearn\\cluster\\_kmeans.py:1436: UserWarning: KMeans is known to have a memory leak on Windows with MKL, when there are less chunks than available threads. You can avoid it by setting the environment variable OMP_NUM_THREADS=2.\n",
      "  warnings.warn(\n",
      "C:\\Users\\hp\\anaconda3\\Lib\\site-packages\\sklearn\\cluster\\_kmeans.py:1436: UserWarning: KMeans is known to have a memory leak on Windows with MKL, when there are less chunks than available threads. You can avoid it by setting the environment variable OMP_NUM_THREADS=2.\n",
      "  warnings.warn(\n",
      "C:\\Users\\hp\\anaconda3\\Lib\\site-packages\\sklearn\\cluster\\_kmeans.py:1436: UserWarning: KMeans is known to have a memory leak on Windows with MKL, when there are less chunks than available threads. You can avoid it by setting the environment variable OMP_NUM_THREADS=2.\n",
      "  warnings.warn(\n",
      "C:\\Users\\hp\\anaconda3\\Lib\\site-packages\\sklearn\\cluster\\_kmeans.py:1436: UserWarning: KMeans is known to have a memory leak on Windows with MKL, when there are less chunks than available threads. You can avoid it by setting the environment variable OMP_NUM_THREADS=2.\n",
      "  warnings.warn(\n",
      "C:\\Users\\hp\\anaconda3\\Lib\\site-packages\\sklearn\\cluster\\_kmeans.py:1436: UserWarning: KMeans is known to have a memory leak on Windows with MKL, when there are less chunks than available threads. You can avoid it by setting the environment variable OMP_NUM_THREADS=2.\n",
      "  warnings.warn(\n",
      "C:\\Users\\hp\\anaconda3\\Lib\\site-packages\\sklearn\\cluster\\_kmeans.py:1436: UserWarning: KMeans is known to have a memory leak on Windows with MKL, when there are less chunks than available threads. You can avoid it by setting the environment variable OMP_NUM_THREADS=2.\n",
      "  warnings.warn(\n",
      "C:\\Users\\hp\\anaconda3\\Lib\\site-packages\\sklearn\\cluster\\_kmeans.py:1436: UserWarning: KMeans is known to have a memory leak on Windows with MKL, when there are less chunks than available threads. You can avoid it by setting the environment variable OMP_NUM_THREADS=2.\n",
      "  warnings.warn(\n",
      "C:\\Users\\hp\\anaconda3\\Lib\\site-packages\\sklearn\\cluster\\_kmeans.py:1436: UserWarning: KMeans is known to have a memory leak on Windows with MKL, when there are less chunks than available threads. You can avoid it by setting the environment variable OMP_NUM_THREADS=2.\n",
      "  warnings.warn(\n",
      "C:\\Users\\hp\\anaconda3\\Lib\\site-packages\\sklearn\\cluster\\_kmeans.py:1436: UserWarning: KMeans is known to have a memory leak on Windows with MKL, when there are less chunks than available threads. You can avoid it by setting the environment variable OMP_NUM_THREADS=2.\n",
      "  warnings.warn(\n",
      "C:\\Users\\hp\\anaconda3\\Lib\\site-packages\\sklearn\\cluster\\_kmeans.py:1436: UserWarning: KMeans is known to have a memory leak on Windows with MKL, when there are less chunks than available threads. You can avoid it by setting the environment variable OMP_NUM_THREADS=2.\n",
      "  warnings.warn(\n"
     ]
    },
    {
     "data": {
      "image/png": "[encoded data removed]",
      "text/plain": [
       "<Figure size 640x480 with 1 Axes>"
      ]
     },
     "metadata": {},
     "output_type": "display_data"
    }
   ],
   "source": [
    "#Using elbow method to find the optimal number of clusters\n",
    "\n",
    "within_cluster_squares = [] \n",
    "for i in range(1, 21):\n",
    "    kmeans = KMeans(n_clusters=i, init='k-means++', max_iter=300, n_init=10, random_state=42)\n",
    "    kmeans.fit(X)\n",
    "    within_cluster_squares.append(kmeans.inertia_)\n",
    "\n",
    "plt.plot(range(1, 21), within_cluster_squares)\n",
    "plt.title('Elbow Method For Optimal k')\n",
    "plt.xlabel('Number of clusters')\n",
    "plt.ylabel('Within cluster squares')\n",
    "plt.show()"
   ]
  },
  {
   "cell_type": "code",
   "execution_count": 72,
   "id": "6092a76c",
   "metadata": {},
   "outputs": [
    {
     "name": "stderr",
     "output_type": "stream",
     "text": [
      "C:\\Users\\hp\\anaconda3\\Lib\\site-packages\\sklearn\\cluster\\_kmeans.py:1436: UserWarning: KMeans is known to have a memory leak on Windows with MKL, when there are less chunks than available threads. You can avoid it by setting the environment variable OMP_NUM_THREADS=2.\n",
      "  warnings.warn(\n"
     ]
    }
   ],
   "source": [
    "optimal_k = 7\n",
    "kmeans = KMeans(n_clusters=optimal_k, init='k-means++', max_iter=300, n_init=10, random_state=42)\n",
    "\n",
    "df['cluster'] = kmeans.fit_predict(X)"
   ]
  },
  {
   "cell_type": "code",
   "execution_count": 73,
   "id": "200ec39f",
   "metadata": {},
   "outputs": [
    {
     "data": {
      "text/html": [
       "<div>\n",
       "<style scoped>\n",
       "    .dataframe tbody tr th:only-of-type {\n",
       "        vertical-align: middle;\n",
       "    }\n",
       "\n",
       "    .dataframe tbody tr th {\n",
       "        vertical-align: top;\n",
       "    }\n",
       "\n",
       "    .dataframe thead th {\n",
       "        text-align: right;\n",
       "    }\n",
       "</style>\n",
       "<table border=\"1\" class=\"dataframe\">\n",
       "  <thead>\n",
       "    <tr style=\"text-align: right;\">\n",
       "      <th></th>\n",
       "      <th>CF_Handle</th>\n",
       "      <th>Rating</th>\n",
       "      <th>Total problems</th>\n",
       "      <th>Problems last month</th>\n",
       "      <th>Contest given</th>\n",
       "      <th>First contest year</th>\n",
       "      <th>cluster</th>\n",
       "    </tr>\n",
       "  </thead>\n",
       "  <tbody>\n",
       "    <tr>\n",
       "      <th>0</th>\n",
       "      <td>tourist</td>\n",
       "      <td>3.830180</td>\n",
       "      <td>2.426723</td>\n",
       "      <td>0.413205</td>\n",
       "      <td>4.278798</td>\n",
       "      <td>-4.683963</td>\n",
       "      <td>2</td>\n",
       "    </tr>\n",
       "    <tr>\n",
       "      <th>1</th>\n",
       "      <td>jiangly</td>\n",
       "      <td>3.508133</td>\n",
       "      <td>6.433029</td>\n",
       "      <td>2.901705</td>\n",
       "      <td>2.302208</td>\n",
       "      <td>-1.161481</td>\n",
       "      <td>4</td>\n",
       "    </tr>\n",
       "    <tr>\n",
       "      <th>2</th>\n",
       "      <td>Benq</td>\n",
       "      <td>3.335770</td>\n",
       "      <td>3.724252</td>\n",
       "      <td>0.413205</td>\n",
       "      <td>2.097091</td>\n",
       "      <td>-2.727029</td>\n",
       "      <td>2</td>\n",
       "    </tr>\n",
       "    <tr>\n",
       "      <th>3</th>\n",
       "      <td>ksun48</td>\n",
       "      <td>3.122584</td>\n",
       "      <td>3.242085</td>\n",
       "      <td>0.970973</td>\n",
       "      <td>4.427974</td>\n",
       "      <td>-3.901189</td>\n",
       "      <td>2</td>\n",
       "    </tr>\n",
       "    <tr>\n",
       "      <th>4</th>\n",
       "      <td>ecnerwala</td>\n",
       "      <td>3.276803</td>\n",
       "      <td>2.870225</td>\n",
       "      <td>0.112869</td>\n",
       "      <td>2.749738</td>\n",
       "      <td>-3.901189</td>\n",
       "      <td>2</td>\n",
       "    </tr>\n",
       "    <tr>\n",
       "      <th>...</th>\n",
       "      <td>...</td>\n",
       "      <td>...</td>\n",
       "      <td>...</td>\n",
       "      <td>...</td>\n",
       "      <td>...</td>\n",
       "      <td>...</td>\n",
       "      <td>...</td>\n",
       "    </tr>\n",
       "    <tr>\n",
       "      <th>468</th>\n",
       "      <td>not_makise</td>\n",
       "      <td>-0.031363</td>\n",
       "      <td>0.004517</td>\n",
       "      <td>0.928067</td>\n",
       "      <td>0.978266</td>\n",
       "      <td>0.012680</td>\n",
       "      <td>3</td>\n",
       "    </tr>\n",
       "    <tr>\n",
       "      <th>469</th>\n",
       "      <td>nishaddhuri</td>\n",
       "      <td>-0.214310</td>\n",
       "      <td>-0.390087</td>\n",
       "      <td>-0.530708</td>\n",
       "      <td>0.139148</td>\n",
       "      <td>0.012680</td>\n",
       "      <td>1</td>\n",
       "    </tr>\n",
       "    <tr>\n",
       "      <th>470</th>\n",
       "      <td>0Arctic0</td>\n",
       "      <td>-0.125104</td>\n",
       "      <td>-0.410556</td>\n",
       "      <td>-0.401993</td>\n",
       "      <td>-0.494852</td>\n",
       "      <td>-0.378707</td>\n",
       "      <td>1</td>\n",
       "    </tr>\n",
       "    <tr>\n",
       "      <th>471</th>\n",
       "      <td>SadSock</td>\n",
       "      <td>-0.125104</td>\n",
       "      <td>-0.515177</td>\n",
       "      <td>-0.616518</td>\n",
       "      <td>-0.606735</td>\n",
       "      <td>0.012680</td>\n",
       "      <td>1</td>\n",
       "    </tr>\n",
       "    <tr>\n",
       "      <th>472</th>\n",
       "      <td>opos</td>\n",
       "      <td>-0.125104</td>\n",
       "      <td>-0.371892</td>\n",
       "      <td>-0.616518</td>\n",
       "      <td>-0.494852</td>\n",
       "      <td>0.404067</td>\n",
       "      <td>1</td>\n",
       "    </tr>\n",
       "  </tbody>\n",
       "</table>\n",
       "<p>463 rows × 7 columns</p>\n",
       "</div>"
      ],
      "text/plain": [
       "       CF_Handle    Rating  Total problems  Problems last month  \\\n",
       "0        tourist  3.830180        2.426723             0.413205   \n",
       "1        jiangly  3.508133        6.433029             2.901705   \n",
       "2           Benq  3.335770        3.724252             0.413205   \n",
       "3         ksun48  3.122584        3.242085             0.970973   \n",
       "4      ecnerwala  3.276803        2.870225             0.112869   \n",
       "..           ...       ...             ...                  ...   \n",
       "468   not_makise -0.031363        0.004517             0.928067   \n",
       "469  nishaddhuri -0.214310       -0.390087            -0.530708   \n",
       "470     0Arctic0 -0.125104       -0.410556            -0.401993   \n",
       "471      SadSock -0.125104       -0.515177            -0.616518   \n",
       "472         opos -0.125104       -0.371892            -0.616518   \n",
       "\n",
       "     Contest given  First contest year  cluster  \n",
       "0         4.278798           -4.683963        2  \n",
       "1         2.302208           -1.161481        4  \n",
       "2         2.097091           -2.727029        2  \n",
       "3         4.427974           -3.901189        2  \n",
       "4         2.749738           -3.901189        2  \n",
       "..             ...                 ...      ...  \n",
       "468       0.978266            0.012680        3  \n",
       "469       0.139148            0.012680        1  \n",
       "470      -0.494852           -0.378707        1  \n",
       "471      -0.606735            0.012680        1  \n",
       "472      -0.494852            0.404067        1  \n",
       "\n",
       "[463 rows x 7 columns]"
      ]
     },
     "execution_count": 73,
     "metadata": {},
     "output_type": "execute_result"
    }
   ],
   "source": [
    "df"
   ]
  },
  {
   "cell_type": "code",
   "execution_count": 74,
   "id": "330099e9",
   "metadata": {},
   "outputs": [],
   "source": [
    "file_name = 'clusters_.xlsx'\n",
    "sheet_name = 'clusters1_'\n",
    "\n",
    "# Saving the DataFrame to Excel\n",
    "df.to_excel(file_name, sheet_name=sheet_name, index=False)\n"
   ]
  },
  {
   "cell_type": "code",
   "execution_count": 75,
   "id": "b844da6e",
   "metadata": {},
   "outputs": [],
   "source": [
    "import os"
   ]
  },
  {
   "cell_type": "code",
   "execution_count": 76,
   "id": "f7a456a3",
   "metadata": {},
   "outputs": [],
   "source": [
    "if os.name == 'nt':  \n",
    "    os.startfile(file_name)"
   ]
  },
  {
   "cell_type": "code",
   "execution_count": 77,
   "id": "ae3201b6",
   "metadata": {},
   "outputs": [],
   "source": [
    "scaled_centroids = kmeans.cluster_centers_\n",
    "unscaled_centroids = scaler.inverse_transform(scaled_centroids).astype('int')"
   ]
  },
  {
   "cell_type": "code",
   "execution_count": 78,
   "id": "3de42719",
   "metadata": {},
   "outputs": [
    {
     "name": "stdout",
     "output_type": "stream",
     "text": [
      "[[ 1.20096794e+00  1.27014161e+00  1.18828354e-01  1.58274222e+00\n",
      "  -1.08537789e+00]\n",
      " [-1.03892521e-01 -3.55938012e-01 -1.95797931e-01 -3.83241296e-01\n",
      "   4.36365787e-01]\n",
      " [ 2.15996984e+00  2.68874950e+00  1.70076186e-01  3.59351793e+00\n",
      "  -3.90118950e+00]\n",
      " [ 4.88041620e-01 -5.01001918e-03 -2.44819650e-01  2.04412967e-01\n",
      "  -6.74244098e-01]\n",
      " [ 2.41271897e+00  7.12756536e+00  3.28785130e+00  2.49334080e+00\n",
      "  -1.65071458e+00]\n",
      " [ 3.65697373e-01  1.93619834e-01  2.66503443e+00  5.79432397e-02\n",
      "   2.90438398e-01]\n",
      " [-1.53379208e+00 -5.09057312e-01 -4.96835632e-01 -6.96780296e-01\n",
      "   7.85154150e-01]]\n"
     ]
    }
   ],
   "source": [
    "print(scaled_centroids)"
   ]
  },
  {
   "cell_type": "code",
   "execution_count": 79,
   "id": "90b473ad",
   "metadata": {},
   "outputs": [
    {
     "name": "stdout",
     "output_type": "stream",
     "text": [
      "[[2208 1581   17  123 2019]\n",
      " [1345  152    9   17 2023]\n",
      " [2842 2829   18  231 2012]\n",
      " [1736  460    8   49 2020]\n",
      " [3009 6732   91  172 2017]\n",
      " [1655  635   76   41 2022]\n",
      " [ 399   17    2    1 2023]]\n"
     ]
    }
   ],
   "source": [
    "print(unscaled_centroids)"
   ]
  },
  {
   "cell_type": "code",
   "execution_count": 80,
   "id": "5227217b",
   "metadata": {},
   "outputs": [],
   "source": [
    "#Finding the centroid of the clusters\n",
    "\n",
    "centroids_df=pd.DataFrame(unscaled_centroids, columns=numerical_features)"
   ]
  },
  {
   "cell_type": "code",
   "execution_count": 81,
   "id": "7828fdca",
   "metadata": {},
   "outputs": [
    {
     "data": {
      "text/html": [
       "<div>\n",
       "<style scoped>\n",
       "    .dataframe tbody tr th:only-of-type {\n",
       "        vertical-align: middle;\n",
       "    }\n",
       "\n",
       "    .dataframe tbody tr th {\n",
       "        vertical-align: top;\n",
       "    }\n",
       "\n",
       "    .dataframe thead th {\n",
       "        text-align: right;\n",
       "    }\n",
       "</style>\n",
       "<table border=\"1\" class=\"dataframe\">\n",
       "  <thead>\n",
       "    <tr style=\"text-align: right;\">\n",
       "      <th></th>\n",
       "      <th>Rating</th>\n",
       "      <th>Total problems</th>\n",
       "      <th>Problems last month</th>\n",
       "      <th>Contest given</th>\n",
       "      <th>First contest year</th>\n",
       "    </tr>\n",
       "  </thead>\n",
       "  <tbody>\n",
       "    <tr>\n",
       "      <th>0</th>\n",
       "      <td>2208</td>\n",
       "      <td>1581</td>\n",
       "      <td>17</td>\n",
       "      <td>123</td>\n",
       "      <td>2019</td>\n",
       "    </tr>\n",
       "    <tr>\n",
       "      <th>1</th>\n",
       "      <td>1345</td>\n",
       "      <td>152</td>\n",
       "      <td>9</td>\n",
       "      <td>17</td>\n",
       "      <td>2023</td>\n",
       "    </tr>\n",
       "    <tr>\n",
       "      <th>2</th>\n",
       "      <td>2842</td>\n",
       "      <td>2829</td>\n",
       "      <td>18</td>\n",
       "      <td>231</td>\n",
       "      <td>2012</td>\n",
       "    </tr>\n",
       "    <tr>\n",
       "      <th>3</th>\n",
       "      <td>1736</td>\n",
       "      <td>460</td>\n",
       "      <td>8</td>\n",
       "      <td>49</td>\n",
       "      <td>2020</td>\n",
       "    </tr>\n",
       "    <tr>\n",
       "      <th>4</th>\n",
       "      <td>3009</td>\n",
       "      <td>6732</td>\n",
       "      <td>91</td>\n",
       "      <td>172</td>\n",
       "      <td>2017</td>\n",
       "    </tr>\n",
       "    <tr>\n",
       "      <th>5</th>\n",
       "      <td>1655</td>\n",
       "      <td>635</td>\n",
       "      <td>76</td>\n",
       "      <td>41</td>\n",
       "      <td>2022</td>\n",
       "    </tr>\n",
       "    <tr>\n",
       "      <th>6</th>\n",
       "      <td>399</td>\n",
       "      <td>17</td>\n",
       "      <td>2</td>\n",
       "      <td>1</td>\n",
       "      <td>2023</td>\n",
       "    </tr>\n",
       "  </tbody>\n",
       "</table>\n",
       "</div>"
      ],
      "text/plain": [
       "   Rating  Total problems  Problems last month  Contest given  \\\n",
       "0    2208            1581                   17            123   \n",
       "1    1345             152                    9             17   \n",
       "2    2842            2829                   18            231   \n",
       "3    1736             460                    8             49   \n",
       "4    3009            6732                   91            172   \n",
       "5    1655             635                   76             41   \n",
       "6     399              17                    2              1   \n",
       "\n",
       "   First contest year  \n",
       "0                2019  \n",
       "1                2023  \n",
       "2                2012  \n",
       "3                2020  \n",
       "4                2017  \n",
       "5                2022  \n",
       "6                2023  "
      ]
     },
     "execution_count": 81,
     "metadata": {},
     "output_type": "execute_result"
    }
   ],
   "source": [
    "centroids_df"
   ]
  },
  {
   "cell_type": "code",
   "execution_count": 88,
   "id": "b03ab044",
   "metadata": {},
   "outputs": [],
   "source": [
    "import numpy as np\n",
    "centroids_df['Cluster']=np.arange(len(unscaled_centroids))"
   ]
  },
  {
   "cell_type": "code",
   "execution_count": 93,
   "id": "975e20a3",
   "metadata": {},
   "outputs": [
    {
     "data": {
      "text/html": [
       "<div>\n",
       "<style scoped>\n",
       "    .dataframe tbody tr th:only-of-type {\n",
       "        vertical-align: middle;\n",
       "    }\n",
       "\n",
       "    .dataframe tbody tr th {\n",
       "        vertical-align: top;\n",
       "    }\n",
       "\n",
       "    .dataframe thead th {\n",
       "        text-align: right;\n",
       "    }\n",
       "</style>\n",
       "<table border=\"1\" class=\"dataframe\">\n",
       "  <thead>\n",
       "    <tr style=\"text-align: right;\">\n",
       "      <th></th>\n",
       "      <th>Rating</th>\n",
       "      <th>Total problems</th>\n",
       "      <th>Problems last month</th>\n",
       "      <th>Contest given</th>\n",
       "      <th>First contest year</th>\n",
       "      <th>Cluster</th>\n",
       "    </tr>\n",
       "  </thead>\n",
       "  <tbody>\n",
       "    <tr>\n",
       "      <th>0</th>\n",
       "      <td>2208</td>\n",
       "      <td>1581</td>\n",
       "      <td>17</td>\n",
       "      <td>123</td>\n",
       "      <td>2019</td>\n",
       "      <td>0</td>\n",
       "    </tr>\n",
       "    <tr>\n",
       "      <th>1</th>\n",
       "      <td>1345</td>\n",
       "      <td>152</td>\n",
       "      <td>9</td>\n",
       "      <td>17</td>\n",
       "      <td>2023</td>\n",
       "      <td>1</td>\n",
       "    </tr>\n",
       "    <tr>\n",
       "      <th>2</th>\n",
       "      <td>2842</td>\n",
       "      <td>2829</td>\n",
       "      <td>18</td>\n",
       "      <td>231</td>\n",
       "      <td>2012</td>\n",
       "      <td>2</td>\n",
       "    </tr>\n",
       "    <tr>\n",
       "      <th>3</th>\n",
       "      <td>1736</td>\n",
       "      <td>460</td>\n",
       "      <td>8</td>\n",
       "      <td>49</td>\n",
       "      <td>2020</td>\n",
       "      <td>3</td>\n",
       "    </tr>\n",
       "    <tr>\n",
       "      <th>4</th>\n",
       "      <td>3009</td>\n",
       "      <td>6732</td>\n",
       "      <td>91</td>\n",
       "      <td>172</td>\n",
       "      <td>2017</td>\n",
       "      <td>4</td>\n",
       "    </tr>\n",
       "    <tr>\n",
       "      <th>5</th>\n",
       "      <td>1655</td>\n",
       "      <td>635</td>\n",
       "      <td>76</td>\n",
       "      <td>41</td>\n",
       "      <td>2022</td>\n",
       "      <td>5</td>\n",
       "    </tr>\n",
       "    <tr>\n",
       "      <th>6</th>\n",
       "      <td>399</td>\n",
       "      <td>17</td>\n",
       "      <td>2</td>\n",
       "      <td>1</td>\n",
       "      <td>2023</td>\n",
       "      <td>6</td>\n",
       "    </tr>\n",
       "  </tbody>\n",
       "</table>\n",
       "</div>"
      ],
      "text/plain": [
       "   Rating  Total problems  Problems last month  Contest given  \\\n",
       "0    2208            1581                   17            123   \n",
       "1    1345             152                    9             17   \n",
       "2    2842            2829                   18            231   \n",
       "3    1736             460                    8             49   \n",
       "4    3009            6732                   91            172   \n",
       "5    1655             635                   76             41   \n",
       "6     399              17                    2              1   \n",
       "\n",
       "   First contest year  Cluster  \n",
       "0                2019        0  \n",
       "1                2023        1  \n",
       "2                2012        2  \n",
       "3                2020        3  \n",
       "4                2017        4  \n",
       "5                2022        5  \n",
       "6                2023        6  "
      ]
     },
     "execution_count": 93,
     "metadata": {},
     "output_type": "execute_result"
    }
   ],
   "source": [
    "#User persona \n",
    "\n",
    "centroids_df"
   ]
  }
 ],
 "metadata": {
  "kernelspec": {
   "display_name": "Python 3 (ipykernel)",
   "language": "python",
   "name": "python3"
  },
  "language_info": {
   "codemirror_mode": {
    "name": "ipython",
    "version": 3
   },
   "file_extension": ".py",
   "mimetype": "text/x-python",
   "name": "python",
   "nbconvert_exporter": "python",
   "pygments_lexer": "ipython3",
   "version": "3.11.5"
  }
 },
 "nbformat": 4,
 "nbformat_minor": 5
}
